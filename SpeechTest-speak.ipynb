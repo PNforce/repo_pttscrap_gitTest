{
 "cells": [
  {
   "cell_type": "code",
   "execution_count": 3,
   "metadata": {},
   "outputs": [],
   "source": [
    "import tempfile\n",
    "from gtts import gTTS\n",
    "from pygame import mixer\n",
    "import speech_recognition\n",
    "mixer.init()\n",
    "\n",
    "def speak(sentence):\n",
    "    with tempfile.NamedTemporaryFile(delete = True) as fp:   \n",
    "        tts = gTTS(text = sentence,lang = 'zh-tw')\n",
    "        tts.save('{}.mp3'.format(fp.name))\n",
    "        mixer.music.load('{}.mp3'.format(fp.name))\n",
    "        mixer.music.play()\n",
    "def listen():\n",
    "    try:\n",
    "        spR = speech_recognition.Recognizer()\n",
    "        with speech_recognition.Microphone() as source:\n",
    "            audio = spR.listen(source)\n",
    "        return spR.recognize_google(audio, language=\"zh-TW\")\n",
    "    except:\n",
    "        return '說點甚麼'\n",
    "def wiki():\n",
    "      pass\n",
    "def Main():\n",
    "        speak(listen())\n",
    "        \n",
    "Main()"
   ]
  },
  {
   "cell_type": "code",
   "execution_count": null,
   "metadata": {},
   "outputs": [],
   "source": []
  },
  {
   "cell_type": "code",
   "execution_count": null,
   "metadata": {},
   "outputs": [],
   "source": []
  }
 ],
 "metadata": {
  "kernelspec": {
   "display_name": "Python 3",
   "language": "python",
   "name": "python3"
  },
  "language_info": {
   "codemirror_mode": {
    "name": "ipython",
    "version": 3
   },
   "file_extension": ".py",
   "mimetype": "text/x-python",
   "name": "python",
   "nbconvert_exporter": "python",
   "pygments_lexer": "ipython3",
   "version": "3.7.3"
  }
 },
 "nbformat": 4,
 "nbformat_minor": 2
}
