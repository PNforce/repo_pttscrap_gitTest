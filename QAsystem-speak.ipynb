{
 "cells": [
  {
   "cell_type": "code",
   "execution_count": 22,
   "metadata": {},
   "outputs": [
    {
     "name": "stdout",
     "output_type": "stream",
     "text": [
      "多多多多多多多多多打爸爸\n",
      "嘟嘟嘟嘟嘟嚕嘟嚕嘟嚕嘟嚕大大大\n",
      "說點甚麼\n",
      "我說載檔名6月6日\n",
      "說太快會無法紀錄\n",
      "disposition\n",
      "sentence\n",
      "metabolism\n",
      "Play music\n",
      "Play music\n",
      "I feel good\n",
      "IKEA壁櫃\n",
      "好丘Bagel\n",
      "非常好\n",
      "sentence\n",
      "\n"
     ]
    }
   ],
   "source": [
    "#mic to text\n",
    "\n",
    "import tempfile\n",
    "from gtts import gTTS\n",
    "from pygame import mixer\n",
    "import speech_recognition\n",
    "import os\n",
    "import jieba\n",
    "\n",
    "mixer.init()\n",
    "FileSaveLink = 'D:\\QAtxt\\\\'\n",
    "FileSaveName = '六月六日'\n",
    "\n",
    "def speak(sentence):\n",
    "    with tempfile.NamedTemporaryFile(delete = True) as fp:\n",
    "        if sentence.encode('UTF-8').isalpha(): #一個句子無法被認為是英文 有空格\n",
    "            tts = gTTS(text = sentence,lang = 'en')\n",
    "        else : \n",
    "            tts = gTTS(text = sentence,lang = 'zh-tw')\n",
    "        tts.save('{}.mp3'.format(fp.name))\n",
    "        mixer.music.load('{}.mp3'.format(fp.name))\n",
    "        mixer.music.play()\n",
    "\n",
    "def listen():\n",
    "    try:\n",
    "        spR = speech_recognition.Recognizer()\n",
    "        with speech_recognition.Microphone() as source:\n",
    "            audio = spR.listen(source)\n",
    "        return spR.recognize_google(audio, language=\"zh-TW\")\n",
    "    except:\n",
    "        return '說點甚麼'\n",
    "    \n",
    "def writefile(filename,filelink,content):\n",
    "    try:\n",
    "        with open(filelink + '{}.txt'.format(filename),'a+') as fp:\n",
    "            fp.write(content)\n",
    "            fp.write('\\n')\n",
    "    except:\n",
    "        with open(filelink + '{}.txt'.format(filename),'w+') as fp:\n",
    "            fp.write(content)\n",
    "    finally:\n",
    "        with open(filelink + '{}.txt'.format(filename),'r') as fp:\n",
    "            print(fp.read())\n",
    "\n",
    "def wiki():\n",
    "      pass\n",
    "\n",
    "def Main():\n",
    "    ListenText = listen()\n",
    "    writefile(FileSaveName,FileSaveLink,ListenText)\n",
    "    #speak('已記錄' + ListenText + '在檔名' + FileSaveName)\n",
    "    speak(ListenText)\n",
    "Main()"
   ]
  },
  {
   "cell_type": "code",
   "execution_count": 17,
   "metadata": {},
   "outputs": [
    {
     "ename": "NameError",
     "evalue": "name 'sentence' is not defined",
     "output_type": "error",
     "traceback": [
      "\u001b[1;31m---------------------------------------------------------------------------\u001b[0m",
      "\u001b[1;31mNameError\u001b[0m                                 Traceback (most recent call last)",
      "\u001b[1;32m<ipython-input-17-a1facc099272>\u001b[0m in \u001b[0;36m<module>\u001b[1;34m\u001b[0m\n\u001b[1;32m----> 1\u001b[1;33m \u001b[1;32mif\u001b[0m \u001b[0msentence\u001b[0m\u001b[1;33m.\u001b[0m\u001b[0mencode\u001b[0m\u001b[1;33m(\u001b[0m\u001b[1;34m'UTF-8'\u001b[0m\u001b[1;33m)\u001b[0m\u001b[1;33m.\u001b[0m\u001b[0misalpha\u001b[0m\u001b[1;33m(\u001b[0m\u001b[1;33m)\u001b[0m \u001b[1;32mor\u001b[0m \u001b[0msentence\u001b[0m\u001b[1;33m.\u001b[0m\u001b[0mencode\u001b[0m\u001b[1;33m(\u001b[0m\u001b[1;34m'UTF-8'\u001b[0m\u001b[1;33m)\u001b[0m\u001b[1;33m.\u001b[0m\u001b[0misdigit\u001b[0m\u001b[1;33m(\u001b[0m\u001b[1;33m)\u001b[0m\u001b[1;33m:\u001b[0m\u001b[1;33m\u001b[0m\u001b[1;33m\u001b[0m\u001b[0m\n\u001b[0m\u001b[0;32m      2\u001b[0m     \u001b[0mtts\u001b[0m \u001b[1;33m=\u001b[0m \u001b[0mgTTS\u001b[0m\u001b[1;33m(\u001b[0m\u001b[0mtext\u001b[0m \u001b[1;33m=\u001b[0m \u001b[0msentence\u001b[0m\u001b[1;33m,\u001b[0m\u001b[0mlang\u001b[0m \u001b[1;33m=\u001b[0m \u001b[1;34m'en'\u001b[0m\u001b[1;33m)\u001b[0m\u001b[1;33m\u001b[0m\u001b[1;33m\u001b[0m\u001b[0m\n\u001b[0;32m      3\u001b[0m \u001b[1;32melse\u001b[0m \u001b[1;33m:\u001b[0m\u001b[1;33m\u001b[0m\u001b[1;33m\u001b[0m\u001b[0m\n\u001b[0;32m      4\u001b[0m     \u001b[0mtts\u001b[0m \u001b[1;33m=\u001b[0m \u001b[0mgTTS\u001b[0m\u001b[1;33m(\u001b[0m\u001b[0mtext\u001b[0m \u001b[1;33m=\u001b[0m \u001b[0msentence\u001b[0m\u001b[1;33m,\u001b[0m\u001b[0mlang\u001b[0m \u001b[1;33m=\u001b[0m \u001b[1;34m'zh-tw'\u001b[0m\u001b[1;33m)\u001b[0m\u001b[1;33m\u001b[0m\u001b[1;33m\u001b[0m\u001b[0m\n",
      "\u001b[1;31mNameError\u001b[0m: name 'sentence' is not defined"
     ]
    }
   ],
   "source": [
    "        if sentence.encode('UTF-8').isalpha() or sentence.encode('UTF-8').isdigit():\n",
    "            tts = gTTS(text = sentence,lang = 'en')\n",
    "        else : \n",
    "            tts = gTTS(text = sentence,lang = 'zh-tw')"
   ]
  },
  {
   "cell_type": "code",
   "execution_count": null,
   "metadata": {},
   "outputs": [],
   "source": [
    "#read text to mic\n"
   ]
  },
  {
   "cell_type": "code",
   "execution_count": 64,
   "metadata": {},
   "outputs": [
    {
     "name": "stdout",
     "output_type": "stream",
     "text": [
      "氣溶膠是指懸浮在氣體中的顆粒，例如空氣中的小尺度，而顆粒的大小，決定了“氣溶膠”的物理傳播性質：\n",
      "·對於5微米以下的顆粒，很容易穿透呼吸道，一直到達肺泡腔；\n"
     ]
    }
   ],
   "source": [
    "import tempfile\n",
    "from gtts import gTTS\n",
    "from pygame import mixer\n",
    "import speech_recognition\n",
    "import os, csv\n",
    "import jieba\n",
    "\n",
    "mp3Filename = 'test.csv'\n",
    "path = \"C:\\\\Users\\\\user\\\\Desktop\\\\PY\\\\py_speech\\\\\"\n",
    "mixer.init()\n",
    "def speak(sentence):\n",
    "    with tempfile.NamedTemporaryFile(delete = True) as fp:\n",
    "        if sentence.encode('UTF-8').isalpha(): #一個句子無法被認為是英文 有空格\n",
    "            tts = gTTS(text = sentence,lang = 'en')\n",
    "        else : \n",
    "            tts = gTTS(text = sentence,lang = 'zh-tw')\n",
    "        tts.save('{}.mp3'.format(fp.name))\n",
    "        mixer.music.load('{}.mp3'.format(fp.name))\n",
    "        mixer.music.play()\n",
    "        \n",
    "def read_csv(path,mp3Filename):\n",
    "    with open(path + mp3Filename,'r') as f:\n",
    "        csv_reader = csv.reader(f, delimiter=',')\n",
    "        csv_data = []\n",
    "        for row in csv_reader:\n",
    "            csv_data.append(row)\n",
    "        return csv_data\n",
    "csv_data = read_csv(path,mp3Filename) #list\n",
    "\n",
    "\n",
    "for i in range(2):\n",
    "    print(csv_data[i][0])\n",
    "    speak(csv_data[i][0])\n"
   ]
  },
  {
   "cell_type": "code",
   "execution_count": 8,
   "metadata": {},
   "outputs": [
    {
     "name": "stdout",
     "output_type": "stream",
     "text": [
      "Object `datetime.now` not found.\n"
     ]
    }
   ],
   "source": [
    "import datetime\n",
    "a = datetime\n",
    "?datetime.now"
   ]
  },
  {
   "cell_type": "code",
   "execution_count": 28,
   "metadata": {},
   "outputs": [],
   "source": [
    "from pygame import mixer"
   ]
  },
  {
   "cell_type": "code",
   "execution_count": null,
   "metadata": {},
   "outputs": [],
   "source": []
  }
 ],
 "metadata": {
  "kernelspec": {
   "display_name": "Python 3",
   "language": "python",
   "name": "python3"
  },
  "language_info": {
   "codemirror_mode": {
    "name": "ipython",
    "version": 3
   },
   "file_extension": ".py",
   "mimetype": "text/x-python",
   "name": "python",
   "nbconvert_exporter": "python",
   "pygments_lexer": "ipython3",
   "version": "3.7.3"
  }
 },
 "nbformat": 4,
 "nbformat_minor": 2
}
